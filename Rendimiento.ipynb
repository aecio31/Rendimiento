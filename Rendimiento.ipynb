{
 "cells": [
  {
   "cell_type": "code",
   "execution_count": 11,
   "id": "e3b1a98b",
   "metadata": {},
   "outputs": [
    {
     "name": "stdout",
     "output_type": "stream",
     "text": [
      "[*********************100%%**********************]  1 of 1 completed\n",
      "Producto punto del rendimiento: -0.010801293805570572\n"
     ]
    }
   ],
   "source": [
    "import yfinance as yf\n",
    "from scipy.integrate import quad\n",
    "\n",
    "# Función para calcular el rendimiento R(T, dt) con datos reales\n",
    "def calculate_return(ticket_data, delta_t):\n",
    "    returns = np.log(ticket_data['Close'].pct_change() + 1)\n",
    "    return np.sum(returns) * delta_t\n",
    "\n",
    "# Función para calcular el producto punto del rendimiento con datos reales\n",
    "def calculate_dot_product(T, ticket_data):\n",
    "    delta_t = T / len(ticket_data)\n",
    "    \n",
    "    # Función de rendimiento R(T, dt)\n",
    "    def performance(t):\n",
    "        index = int(t / T * len(ticket_data))\n",
    "        return calculate_return(ticket_data[:index+1], delta_t)\n",
    "    \n",
    "    # Calcular la integral numérica\n",
    "    dot_product, _ = quad(performance, 0, T)\n",
    "    \n",
    "    return dot_product / T\n",
    "\n",
    "# Descargar datos históricos de Tesla desde Yahoo Finance\n",
    "ticker_symbol = 'TSLA'\n",
    "start_date = '2023-10-12'\n",
    "end_date = '2023-10-24'  # Una semana antes\n",
    "\n",
    "ticket_data = yf.download(ticker_symbol, start=start_date, end=end_date)\n",
    "\n",
    "# Parámetros de la simulación\n",
    "T = 1.0  # Tiempo total\n",
    "\n",
    "# Calcular el producto punto del rendimiento con datos reales\n",
    "result = calculate_dot_product(T, ticket_data)\n",
    "\n",
    "print(f\"Producto punto del rendimiento: {result}\")\n"
   ]
  },
  {
   "cell_type": "code",
   "execution_count": 3,
   "id": "106dce99",
   "metadata": {},
   "outputs": [],
   "source": [
    "import yfinance as yf"
   ]
  },
  {
   "cell_type": "code",
   "execution_count": 4,
   "id": "7f232cd1",
   "metadata": {},
   "outputs": [],
   "source": [
    "from scipy.integrate import quad"
   ]
  },
  {
   "cell_type": "code",
   "execution_count": 5,
   "id": "eb6dffa0",
   "metadata": {},
   "outputs": [],
   "source": [
    "import numpy as np"
   ]
  },
  {
   "cell_type": "code",
   "execution_count": 21,
   "id": "6f868b42",
   "metadata": {},
   "outputs": [
    {
     "name": "stdout",
     "output_type": "stream",
     "text": [
      "[*********************100%%**********************]  1 of 1 completed\n",
      "Producto punto del rendimiento: -0.05687174772024204\n"
     ]
    },
    {
     "name": "stderr",
     "output_type": "stream",
     "text": [
      "C:\\Users\\ST\\AppData\\Local\\Temp\\ipykernel_13956\\496751216.py:16: IntegrationWarning: The maximum number of subdivisions (50) has been achieved.\n",
      "  If increasing the limit yields no improvement it is advised to analyze \n",
      "  the integrand in order to determine the difficulties.  If the position of a \n",
      "  local difficulty can be determined (singularity, discontinuity) one will \n",
      "  probably gain from splitting up the interval and calling the integrator \n",
      "  on the subranges.  Perhaps a special-purpose integrator should be used.\n",
      "  dot_product, _ = quad(performance, 0, T)\n"
     ]
    }
   ],
   "source": [
    "# Función para calcular el rendimiento R(T, dt) con datos reales\n",
    "def calculate_return(ticket_data, delta_t):\n",
    "    returns = np.log(ticket_data['Close'].pct_change() + 1)\n",
    "    return np.sum(returns) * delta_t\n",
    "\n",
    "# Función para calcular el producto punto del rendimiento con datos reales\n",
    "def calculate_dot_product(T, ticket_data):\n",
    "    delta_t = T / len(ticket_data)\n",
    "    \n",
    "    # Función de rendimiento R(T, dt)\n",
    "    def performance(t):\n",
    "        index = int(t / T * len(ticket_data))\n",
    "        return calculate_return(ticket_data[:index+1], delta_t)\n",
    "    \n",
    "    # Calcular la integral numérica\n",
    "    dot_product, _ = quad(performance, 0, T)\n",
    "    \n",
    "    return dot_product / T\n",
    "\n",
    "# Descargar datos históricos de Tesla desde Yahoo Finance\n",
    "ticker_symbol = 'TSLA'\n",
    "start_date = '2023-10-9'\n",
    "end_date = '2023-10-24'  # Una semana antes\n",
    "\n",
    "ticket_data = yf.download(ticker_symbol, start=start_date, end=end_date)\n",
    "\n",
    "# Parámetros de la simulación\n",
    "T =10 # Tiempo total\n",
    "\n",
    "# Calcular el producto punto del rendimiento con datos reales\n",
    "result = calculate_dot_product(T, ticket_data)\n",
    "\n",
    "print(f\"Producto punto del rendimiento: {result}\")\n"
   ]
  },
  {
   "cell_type": "code",
   "execution_count": null,
   "id": "1a0706c5",
   "metadata": {},
   "outputs": [],
   "source": []
  }
 ],
 "metadata": {
  "kernelspec": {
   "display_name": "Python 3 (ipykernel)",
   "language": "python",
   "name": "python3"
  },
  "language_info": {
   "codemirror_mode": {
    "name": "ipython",
    "version": 3
   },
   "file_extension": ".py",
   "mimetype": "text/x-python",
   "name": "python",
   "nbconvert_exporter": "python",
   "pygments_lexer": "ipython3",
   "version": "3.11.4"
  }
 },
 "nbformat": 4,
 "nbformat_minor": 5
}
